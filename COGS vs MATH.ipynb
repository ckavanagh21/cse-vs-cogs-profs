{
 "cells": [
  {
   "cell_type": "markdown",
   "id": "8d7e8ccd-cab3-4478-bc56-edeb787e337b",
   "metadata": {},
   "source": [
    "# Are COGS professors better than Math professors at UCSD? "
   ]
  },
  {
   "cell_type": "markdown",
   "id": "bf905a7b-0b84-4e22-8420-4a80e3c07e0d",
   "metadata": {},
   "source": [
    "## Background\n",
    "Based on the classes that I've taken with the departments, and the CAPE reviews that I've looked over, I had a theory that the professors in the Math department were inferior to the professors in the COGS department. However, I've never actually had any real way to prove it. This notebook explores some statistical tests of the hypothesis, \"Are COGS professors better than Math professors based on CAPE Recommend Instructor rates?\" \n",
    "\n",
    "Credit to Tyler Flar on GitHub for getting CAPES data in a .csv format: https://github.com/TylerFlar"
   ]
  },
  {
   "cell_type": "markdown",
   "id": "fe28e0cb-d9e7-4bcb-a990-70c9068b7421",
   "metadata": {},
   "source": [
    "## Data Wrangling"
   ]
  },
  {
   "cell_type": "markdown",
   "id": "7dba8020-6429-451a-b108-b54c828b2fde",
   "metadata": {},
   "source": [
    "Imports:"
   ]
  },
  {
   "cell_type": "code",
   "execution_count": 32,
   "id": "3530b9dd-4b60-498b-a3c9-88dad2a9feae",
   "metadata": {},
   "outputs": [],
   "source": [
    "# Imports \n",
    "%matplotlib inline\n",
    "\n",
    "import numpy as np\n",
    "import pandas as pd\n",
    "import matplotlib.pyplot as plt\n",
    "import re\n",
    "\n",
    "import seaborn as sns\n",
    "sns.set()\n",
    "sns.set_context('talk')\n",
    "import warnings\n",
    "warnings.filterwarnings('ignore')\n",
    "\n",
    "import patsy\n",
    "import statsmodels.api as sm\n",
    "import scipy.stats as stats\n",
    "from scipy.stats import ttest_ind, chisquare, normaltest, mannwhitneyu\n",
    "# Note: the statsmodels import may print out a 'FutureWarning'. Thats fine."
   ]
  },
  {
   "cell_type": "markdown",
   "id": "c48580b6-78fa-408e-8cf4-61675e64fb4e",
   "metadata": {},
   "source": [
    "Merge two dataframes"
   ]
  },
  {
   "cell_type": "code",
   "execution_count": 33,
   "id": "b56fb9b3-d6d2-467e-94b1-10aaa468db8a",
   "metadata": {},
   "outputs": [
    {
     "data": {
      "text/html": [
       "<div>\n",
       "<style scoped>\n",
       "    .dataframe tbody tr th:only-of-type {\n",
       "        vertical-align: middle;\n",
       "    }\n",
       "\n",
       "    .dataframe tbody tr th {\n",
       "        vertical-align: top;\n",
       "    }\n",
       "\n",
       "    .dataframe thead th {\n",
       "        text-align: right;\n",
       "    }\n",
       "</style>\n",
       "<table border=\"1\" class=\"dataframe\">\n",
       "  <thead>\n",
       "    <tr style=\"text-align: right;\">\n",
       "      <th></th>\n",
       "      <th>index</th>\n",
       "      <th>Instructor</th>\n",
       "      <th>Course</th>\n",
       "      <th>Term</th>\n",
       "      <th>Enroll</th>\n",
       "      <th>Evals Made</th>\n",
       "      <th>Rcmnd Class</th>\n",
       "      <th>Rcmnd Instr</th>\n",
       "      <th>Study Hrs/wk</th>\n",
       "      <th>Avg Grade Expected</th>\n",
       "      <th>Avg Grade Received</th>\n",
       "    </tr>\n",
       "  </thead>\n",
       "  <tbody>\n",
       "    <tr>\n",
       "      <th>0</th>\n",
       "      <td>0</td>\n",
       "      <td>Kedlaya, Kiran S.</td>\n",
       "      <td>\\nMATH 100A - Abstract Algebra I (A)\\n</td>\n",
       "      <td>FA22</td>\n",
       "      <td>43</td>\n",
       "      <td>\\n12\\n</td>\n",
       "      <td>\\n75.0%\\n</td>\n",
       "      <td>\\n83.3%\\n</td>\n",
       "      <td>\\n8.83\\n</td>\n",
       "      <td>\\nB (3.17)\\n</td>\n",
       "      <td>\\nB (3.24)\\n</td>\n",
       "    </tr>\n",
       "    <tr>\n",
       "      <th>1</th>\n",
       "      <td>1</td>\n",
       "      <td>Greenfeld, Be'Eri</td>\n",
       "      <td>\\nMATH 100A - Abstract Algebra I (B)\\n</td>\n",
       "      <td>FA22</td>\n",
       "      <td>51</td>\n",
       "      <td>\\n21\\n</td>\n",
       "      <td>\\n76.2%\\n</td>\n",
       "      <td>\\n75.0%\\n</td>\n",
       "      <td>\\n8.31\\n</td>\n",
       "      <td>\\nB+ (3.38)\\n</td>\n",
       "      <td>\\nB (3.14)\\n</td>\n",
       "    </tr>\n",
       "    <tr>\n",
       "      <th>2</th>\n",
       "      <td>2</td>\n",
       "      <td>Alberts, Brandon</td>\n",
       "      <td>\\nMATH 100A - Abstract Algebra I (A)\\n</td>\n",
       "      <td>FA21</td>\n",
       "      <td>57</td>\n",
       "      <td>\\n27\\n</td>\n",
       "      <td>\\n84.6%\\n</td>\n",
       "      <td>\\n88.5%\\n</td>\n",
       "      <td>\\n9.65\\n</td>\n",
       "      <td>\\nB (3.00)\\n</td>\n",
       "      <td>\\nC+ (2.67)\\n</td>\n",
       "    </tr>\n",
       "    <tr>\n",
       "      <th>3</th>\n",
       "      <td>3</td>\n",
       "      <td>Kedlaya, Kiran S.</td>\n",
       "      <td>\\nMATH 100A - Abstract Algebra I (B)\\n</td>\n",
       "      <td>FA21</td>\n",
       "      <td>65</td>\n",
       "      <td>\\n29\\n</td>\n",
       "      <td>\\n82.1%\\n</td>\n",
       "      <td>\\n92.9%\\n</td>\n",
       "      <td>\\n10.21\\n</td>\n",
       "      <td>\\nB (3.18)\\n</td>\n",
       "      <td>\\nC+ (2.68)\\n</td>\n",
       "    </tr>\n",
       "    <tr>\n",
       "      <th>4</th>\n",
       "      <td>4</td>\n",
       "      <td>Sorensen, Claus M</td>\n",
       "      <td>\\nMATH 100A - Abstract Algebra I (A)\\n</td>\n",
       "      <td>FA20</td>\n",
       "      <td>55</td>\n",
       "      <td>\\n49\\n</td>\n",
       "      <td>\\n81.3%\\n</td>\n",
       "      <td>\\n78.7%\\n</td>\n",
       "      <td>\\n9.88\\n</td>\n",
       "      <td>\\nB (3.02)\\n</td>\n",
       "      <td>\\nB (3.21)\\n</td>\n",
       "    </tr>\n",
       "    <tr>\n",
       "      <th>...</th>\n",
       "      <td>...</td>\n",
       "      <td>...</td>\n",
       "      <td>...</td>\n",
       "      <td>...</td>\n",
       "      <td>...</td>\n",
       "      <td>...</td>\n",
       "      <td>...</td>\n",
       "      <td>...</td>\n",
       "      <td>...</td>\n",
       "      <td>...</td>\n",
       "      <td>...</td>\n",
       "    </tr>\n",
       "    <tr>\n",
       "      <th>4209</th>\n",
       "      <td>4209</td>\n",
       "      <td>Kutas, Marta</td>\n",
       "      <td>\\nCOGS 91 - SCANS Presents                 (A)\\n</td>\n",
       "      <td>FA07</td>\n",
       "      <td>15</td>\n",
       "      <td>\\n14\\n</td>\n",
       "      <td>\\n100.0%\\n</td>\n",
       "      <td>\\n100.0%\\n</td>\n",
       "      <td>\\n0.50\\n</td>\n",
       "      <td>\\nN/A\\n</td>\n",
       "      <td>\\nN/A\\n</td>\n",
       "    </tr>\n",
       "    <tr>\n",
       "      <th>4210</th>\n",
       "      <td>4210</td>\n",
       "      <td>Instructor</td>\n",
       "      <td>Course</td>\n",
       "      <td>Term</td>\n",
       "      <td>Enroll</td>\n",
       "      <td>Evals Made</td>\n",
       "      <td>Rcmnd Class</td>\n",
       "      <td>Rcmnd Instr</td>\n",
       "      <td>Study Hrs/wk</td>\n",
       "      <td>Avg Grade Expected</td>\n",
       "      <td>Avg Grade Received</td>\n",
       "    </tr>\n",
       "    <tr>\n",
       "      <th>4211</th>\n",
       "      <td>4211</td>\n",
       "      <td>Schul, Rina S.F.</td>\n",
       "      <td>\\nCOGS 92 - Resiliency/Face of Adversity (B)\\n</td>\n",
       "      <td>FA12</td>\n",
       "      <td>24</td>\n",
       "      <td>\\n10\\n</td>\n",
       "      <td>\\n80.0%\\n</td>\n",
       "      <td>\\n80.0%\\n</td>\n",
       "      <td>\\n1.30\\n</td>\n",
       "      <td>\\nA (4.00)\\n</td>\n",
       "      <td>\\nN/A\\n</td>\n",
       "    </tr>\n",
       "    <tr>\n",
       "      <th>4212</th>\n",
       "      <td>4212</td>\n",
       "      <td>Schul, Rina S.F.</td>\n",
       "      <td>\\nCOGS 92 - Resiliency/Face of Adversity   (A)\\n</td>\n",
       "      <td>FA10</td>\n",
       "      <td>13</td>\n",
       "      <td>\\n8\\n</td>\n",
       "      <td>\\n87.5%\\n</td>\n",
       "      <td>\\n87.5%\\n</td>\n",
       "      <td>\\n1.50\\n</td>\n",
       "      <td>\\nA (4.00)\\n</td>\n",
       "      <td>\\nN/A\\n</td>\n",
       "    </tr>\n",
       "    <tr>\n",
       "      <th>4213</th>\n",
       "      <td>4213</td>\n",
       "      <td>\u001a</td>\n",
       "      <td>NaN</td>\n",
       "      <td>NaN</td>\n",
       "      <td>NaN</td>\n",
       "      <td>NaN</td>\n",
       "      <td>NaN</td>\n",
       "      <td>NaN</td>\n",
       "      <td>NaN</td>\n",
       "      <td>NaN</td>\n",
       "      <td>NaN</td>\n",
       "    </tr>\n",
       "  </tbody>\n",
       "</table>\n",
       "<p>4214 rows × 11 columns</p>\n",
       "</div>"
      ],
      "text/plain": [
       "      index                           Instructor  \\\n",
       "0         0                    Kedlaya, Kiran S.   \n",
       "1         1                    Greenfeld, Be'Eri   \n",
       "2         2                     Alberts, Brandon   \n",
       "3         3                    Kedlaya, Kiran S.   \n",
       "4         4                    Sorensen, Claus M   \n",
       "...     ...                                  ...   \n",
       "4209   4209       Kutas, Marta                     \n",
       "4210   4210                           Instructor   \n",
       "4211   4211                     Schul, Rina S.F.   \n",
       "4212   4212  Schul, Rina S.F.                      \n",
       "4213   4213                                    \u001a   \n",
       "\n",
       "                                                Course  Term  Enroll  \\\n",
       "0               \\nMATH 100A - Abstract Algebra I (A)\\n  FA22      43   \n",
       "1               \\nMATH 100A - Abstract Algebra I (B)\\n  FA22      51   \n",
       "2               \\nMATH 100A - Abstract Algebra I (A)\\n  FA21      57   \n",
       "3               \\nMATH 100A - Abstract Algebra I (B)\\n  FA21      65   \n",
       "4               \\nMATH 100A - Abstract Algebra I (A)\\n  FA20      55   \n",
       "...                                                ...   ...     ...   \n",
       "4209  \\nCOGS 91 - SCANS Presents                 (A)\\n  FA07      15   \n",
       "4210                                            Course  Term  Enroll   \n",
       "4211    \\nCOGS 92 - Resiliency/Face of Adversity (B)\\n  FA12      24   \n",
       "4212  \\nCOGS 92 - Resiliency/Face of Adversity   (A)\\n  FA10      13   \n",
       "4213                                               NaN   NaN     NaN   \n",
       "\n",
       "      Evals Made  Rcmnd Class  Rcmnd Instr  Study Hrs/wk  Avg Grade Expected  \\\n",
       "0         \\n12\\n    \\n75.0%\\n    \\n83.3%\\n      \\n8.83\\n        \\nB (3.17)\\n   \n",
       "1         \\n21\\n    \\n76.2%\\n    \\n75.0%\\n      \\n8.31\\n       \\nB+ (3.38)\\n   \n",
       "2         \\n27\\n    \\n84.6%\\n    \\n88.5%\\n      \\n9.65\\n        \\nB (3.00)\\n   \n",
       "3         \\n29\\n    \\n82.1%\\n    \\n92.9%\\n     \\n10.21\\n        \\nB (3.18)\\n   \n",
       "4         \\n49\\n    \\n81.3%\\n    \\n78.7%\\n      \\n9.88\\n        \\nB (3.02)\\n   \n",
       "...          ...          ...          ...           ...                 ...   \n",
       "4209      \\n14\\n   \\n100.0%\\n   \\n100.0%\\n      \\n0.50\\n             \\nN/A\\n   \n",
       "4210  Evals Made  Rcmnd Class  Rcmnd Instr  Study Hrs/wk  Avg Grade Expected   \n",
       "4211      \\n10\\n    \\n80.0%\\n    \\n80.0%\\n      \\n1.30\\n        \\nA (4.00)\\n   \n",
       "4212       \\n8\\n    \\n87.5%\\n    \\n87.5%\\n      \\n1.50\\n        \\nA (4.00)\\n   \n",
       "4213         NaN          NaN          NaN           NaN                 NaN   \n",
       "\n",
       "      Avg Grade Received  \n",
       "0           \\nB (3.24)\\n  \n",
       "1           \\nB (3.14)\\n  \n",
       "2          \\nC+ (2.67)\\n  \n",
       "3          \\nC+ (2.68)\\n  \n",
       "4           \\nB (3.21)\\n  \n",
       "...                  ...  \n",
       "4209             \\nN/A\\n  \n",
       "4210  Avg Grade Received  \n",
       "4211             \\nN/A\\n  \n",
       "4212             \\nN/A\\n  \n",
       "4213                 NaN  \n",
       "\n",
       "[4214 rows x 11 columns]"
      ]
     },
     "execution_count": 33,
     "metadata": {},
     "output_type": "execute_result"
    }
   ],
   "source": [
    "math = pd.read_csv(\"math-merged.csv\")\n",
    "cogs = pd.read_csv(\"cogs-merged.csv\")\n",
    "\n",
    "df = pd.concat([math, cogs], ignore_index=True).reset_index()\n",
    "df\n",
    "\n"
   ]
  },
  {
   "cell_type": "markdown",
   "id": "679a6e74-7d42-48e8-85fe-34dcab57ea43",
   "metadata": {},
   "source": [
    "Exclude rows with column info\n"
   ]
  },
  {
   "cell_type": "code",
   "execution_count": 34,
   "id": "d7c22f44-6c0e-4bf4-9c5b-629e0dbb13fb",
   "metadata": {},
   "outputs": [],
   "source": [
    "dfMod = df[df[\"Instructor\"] != \"Instructor\"]\n"
   ]
  },
  {
   "cell_type": "markdown",
   "id": "1e0c1e50-253c-4b24-a0a1-69902b94cc8d",
   "metadata": {},
   "source": [
    "Write function to strip \"/n\" characters"
   ]
  },
  {
   "cell_type": "code",
   "execution_count": 35,
   "id": "4c47fd05-87c9-4c07-bb2a-462752c3d87f",
   "metadata": {},
   "outputs": [],
   "source": [
    "def stripN(string):\n",
    "    string = str(string)\n",
    "    string = string.strip()\n",
    "    string = string.lower()\n",
    "    if \"%\" in string:\n",
    "        string = string.replace(\"%\", \"\")\n",
    "    if \"\\n\" in string:\n",
    "        string = string.replace(\"\\n\", \"\")\n",
    "    return string"
   ]
  },
  {
   "cell_type": "markdown",
   "id": "4504d211-34f2-43c6-a9b0-cd0fb36bad18",
   "metadata": {},
   "source": [
    "Apply function, remove \"n/a\" strings"
   ]
  },
  {
   "cell_type": "code",
   "execution_count": 36,
   "id": "6f123def-3cc0-4519-846b-fbc5089f4dd9",
   "metadata": {},
   "outputs": [],
   "source": [
    "dfMod['Course'] = dfMod['Course'].apply(stripN)\n",
    "dfMod['Evals Made'] = dfMod['Evals Made'].apply(stripN)\n",
    "dfMod[\"Rcmnd Class\"] = dfMod[\"Rcmnd Class\"].apply(stripN)\n",
    "dfMod[\"Rcmnd Instr\"] = dfMod[\"Rcmnd Instr\"].apply(stripN)\n",
    "dfMod[\"Study Hrs/wk\"] = dfMod[\"Study Hrs/wk\"].apply(stripN)\n",
    "dfMod[\"Avg Grade Expected\"] = dfMod[\"Avg Grade Expected\"].apply(stripN)\n",
    "dfMod[\"Avg Grade Received\"] = dfMod[\"Avg Grade Received\"].apply(stripN)\n",
    "\n",
    "dfMod = dfMod.dropna()\n",
    "dfMod = dfMod[dfMod[\"Avg Grade Expected\"] != \"n/a\"]\n",
    "dfMod = dfMod[dfMod[\"Avg Grade Received\"] != \"n/a\"]\n",
    "\n",
    "\n",
    "\n"
   ]
  },
  {
   "cell_type": "markdown",
   "id": "6a9162c9-a020-4b25-95bd-34848693ba72",
   "metadata": {},
   "source": [
    "Define functions for determining department and removing non numeric characters"
   ]
  },
  {
   "cell_type": "code",
   "execution_count": 37,
   "id": "3633bc9d-3522-4f4d-bc82-fd27c6a0124d",
   "metadata": {},
   "outputs": [],
   "source": [
    "def course(string):\n",
    "    if \"math\" in string:\n",
    "        string = \"math\"\n",
    "    elif \"cogs\" in string:\n",
    "        string = \"cogs\"\n",
    "    return string\n",
    "def remove_non_numeric(string):\n",
    "    # Define the string and the list\n",
    "    string = str(string)\n",
    "    list = [\"a\", \"b\", \"c\", \"d\", \"f\", \"(\", \")\", \"+\", \"-\", \"/n\", \"\\n\", \"n/\", '']\n",
    "    for e in list:\n",
    "        if e in string:\n",
    "            string = string.replace(e, \"\")\n",
    "    string = float(string)\n",
    "    return string\n",
    "\n"
   ]
  },
  {
   "cell_type": "markdown",
   "id": "1ed456e6-b548-4c5c-a133-b7a3e196649a",
   "metadata": {},
   "source": [
    "Change datatypes and apply functions"
   ]
  },
  {
   "cell_type": "code",
   "execution_count": 38,
   "id": "a3ff4413-20f0-4a0b-b0f8-c87cb89fd63a",
   "metadata": {},
   "outputs": [],
   "source": [
    "dfMod['Rcmnd Instr'] = dfMod['Rcmnd Instr'].astype(float)\n",
    "dfMod['Rcmnd Class'] = dfMod['Rcmnd Class'].astype(float)\n",
    "dfMod['Study Hrs/wk'] = dfMod['Study Hrs/wk'].astype(float)\n",
    "dfMod['Enroll'] = dfMod['Enroll'].astype(int)\n",
    "dfMod['Evals Made'] = dfMod['Evals Made'].astype(int)\n",
    "\n",
    "dfMod[\"Department\"] = dfMod[\"Course\"].apply(course)\n",
    "dfMod[\"Avg Grade Received\"] = dfMod[\"Avg Grade Received\"].apply(remove_non_numeric)\n",
    "dfMod[\"Avg Grade Expected\"] = dfMod[\"Avg Grade Expected\"].apply(remove_non_numeric)\n",
    "\n",
    "#dfMod[\"Avg Grade Received\"] = pd.to_numeric(dfMod[\"Avg Grade Received\"])\n",
    "\n",
    "\n",
    "\n"
   ]
  },
  {
   "cell_type": "markdown",
   "id": "f6a321e2-36bd-4027-a96a-7e0dcafc4595",
   "metadata": {},
   "source": [
    "## Run Statistical Tests"
   ]
  },
  {
   "cell_type": "markdown",
   "id": "380a0850-c472-42e7-a4d1-aa15d60abb80",
   "metadata": {},
   "source": [
    "### Test 1: Mann Whitney U Test"
   ]
  },
  {
   "cell_type": "markdown",
   "id": "0b332874-39c6-4329-9fa6-fffe07139793",
   "metadata": {},
   "source": [
    "Plot distribution of COGS professor ratings vs math professor ratings"
   ]
  },
  {
   "cell_type": "code",
   "execution_count": 39,
   "id": "e59f2f29-1eef-4d7f-b364-8fe74829f084",
   "metadata": {},
   "outputs": [
    {
     "data": {
      "text/plain": [
       "<Axes: xlabel='Rcmnd Instr', ylabel='Count'>"
      ]
     },
     "execution_count": 39,
     "metadata": {},
     "output_type": "execute_result"
    },
    {
     "data": {
      "image/png": "[encoded data removed]",
      "text/plain": [
       "<Figure size 640x480 with 1 Axes>"
      ]
     },
     "metadata": {},
     "output_type": "display_data"
    }
   ],
   "source": [
    "sns.histplot(data=dfMod[dfMod.get(\"Department\").str.contains(\"cogs\")], x=\"Rcmnd Instr\")"
   ]
  },
  {
   "cell_type": "code",
   "execution_count": 40,
   "id": "90a58e74-e05f-437f-b399-9cb4d6e84138",
   "metadata": {},
   "outputs": [
    {
     "data": {
      "text/plain": [
       "<Axes: xlabel='Rcmnd Instr', ylabel='Count'>"
      ]
     },
     "execution_count": 40,
     "metadata": {},
     "output_type": "execute_result"
    },
    {
     "data": {
      "image/png": "[encoded data removed]",
      "text/plain": [
       "<Figure size 640x480 with 1 Axes>"
      ]
     },
     "metadata": {},
     "output_type": "display_data"
    }
   ],
   "source": [
    "sns.histplot(data=dfMod[dfMod.get(\"Department\").str.contains(\"math\")], x=\"Rcmnd Instr\")"
   ]
  },
  {
   "cell_type": "markdown",
   "id": "0e4ee1ea-2836-484a-9968-94cb42491212",
   "metadata": {},
   "source": [
    "Run Mann Whitney U test on data.\n",
    "\n",
    "H0: There is no difference between the distributions of the data\n",
    "\n",
    "H1: There IS a difference between the distributions of the data"
   ]
  },
  {
   "cell_type": "code",
   "execution_count": 41,
   "id": "f5905d8a-e91d-477b-8f98-91880c2cda86",
   "metadata": {},
   "outputs": [],
   "source": [
    "cogs_series = dfMod[dfMod.get(\"Department\").str.contains(\"cogs\")].get(\"Rcmnd Instr\")\n",
    "math_series = dfMod[dfMod.get(\"Department\").str.contains(\"math\")].get(\"Rcmnd Instr\")\n",
    "math_mean = math_series.mean()\n",
    "cogs_mean = cogs_series.mean()\n",
    "U_val, p_val = mannwhitneyu(cogs_series, math_series)"
   ]
  },
  {
   "cell_type": "code",
   "execution_count": 42,
   "id": "86f7d3bc-a963-4d88-b7ee-59f31a909351",
   "metadata": {},
   "outputs": [
    {
     "data": {
      "text/plain": [
       "1.4188994528408778e-28"
      ]
     },
     "execution_count": 42,
     "metadata": {},
     "output_type": "execute_result"
    }
   ],
   "source": [
    "p_val"
   ]
  },
  {
   "cell_type": "code",
   "execution_count": 43,
   "id": "4180a462-1ad6-44c4-8644-22eb8d5c88ae",
   "metadata": {},
   "outputs": [
    {
     "data": {
      "text/plain": [
       "88.68343253968253"
      ]
     },
     "execution_count": 43,
     "metadata": {},
     "output_type": "execute_result"
    }
   ],
   "source": [
    "cogs_mean"
   ]
  },
  {
   "cell_type": "code",
   "execution_count": 44,
   "id": "7f26096c-5303-4d61-89ef-2e838b78d199",
   "metadata": {},
   "outputs": [
    {
     "data": {
      "text/plain": [
       "81.88399840383082"
      ]
     },
     "execution_count": 44,
     "metadata": {},
     "output_type": "execute_result"
    }
   ],
   "source": [
    "math_mean"
   ]
  },
  {
   "cell_type": "markdown",
   "id": "410b565e-d6b9-4dc7-ac6d-06f91632d15a",
   "metadata": {},
   "source": [
    "### Test 1 Results: \n",
    "\n",
    "We have evidence that there IS a difference in the distributions of math and COGS professor ratings. Therefore we can conclude that the different means is not due to chance."
   ]
  },
  {
   "cell_type": "markdown",
   "id": "488b0f28-c9b1-4c5c-bcbd-694808fb9dcc",
   "metadata": {},
   "source": [
    "## Test 2a: OLS\n",
    "\n",
    "We then run an OLS regression test to see how much the department of the class is indicative of the professor rating. "
   ]
  },
  {
   "cell_type": "code",
   "execution_count": 45,
   "id": "049c84e3-9236-4c70-a1d9-921d88c1ecd1",
   "metadata": {},
   "outputs": [
    {
     "name": "stdout",
     "output_type": "stream",
     "text": [
      "                            OLS Regression Results                            \n",
      "==============================================================================\n",
      "Dep. Variable:       Q(\"Rcmnd Instr\")   R-squared:                       0.032\n",
      "Model:                            OLS   Adj. R-squared:                  0.032\n",
      "Method:                 Least Squares   F-statistic:                     117.0\n",
      "Date:                Sat, 25 Nov 2023   Prob (F-statistic):           7.59e-27\n",
      "Time:                        12:29:22   Log-Likelihood:                -14911.\n",
      "No. Observations:                3514   AIC:                         2.983e+04\n",
      "Df Residuals:                    3512   BIC:                         2.984e+04\n",
      "Df Model:                           1                                         \n",
      "Covariance Type:            nonrobust                                         \n",
      "======================================================================================\n",
      "                         coef    std err          t      P>|t|      [0.025      0.975]\n",
      "--------------------------------------------------------------------------------------\n",
      "Intercept             88.6834      0.531    167.057      0.000      87.643      89.724\n",
      "Department[T.math]    -6.7994      0.629    -10.816      0.000      -8.032      -5.567\n",
      "==============================================================================\n",
      "Omnibus:                      932.805   Durbin-Watson:                   1.741\n",
      "Prob(Omnibus):                  0.000   Jarque-Bera (JB):             2124.261\n",
      "Skew:                          -1.499   Prob(JB):                         0.00\n",
      "Kurtosis:                       5.349   Cond. No.                         3.50\n",
      "==============================================================================\n",
      "\n",
      "Notes:\n",
      "[1] Standard Errors assume that the covariance matrix of the errors is correctly specified.\n"
     ]
    }
   ],
   "source": [
    "outcome_1, predictors_1 = patsy.dmatrices('Q(\"Rcmnd Instr\") ~ Department', dfMod)\n",
    "mod_1 = sm.OLS(outcome_1, predictors_1)\n",
    "res_1 = mod_1.fit()\n",
    "print(res_1.summary())"
   ]
  },
  {
   "cell_type": "markdown",
   "id": "6f7fa78a-53f4-4b60-855b-75bac753c76f",
   "metadata": {},
   "source": [
    "With these results, we don't have evidence to conclude that the department is strictly indicative of the instructor rating. We can see that statistics like the R-squared value are super low, indicating that a tiny percentage of the data can be represented using the OLS line. \n",
    "\n",
    "What about if we incorporate more variables? "
   ]
  },
  {
   "cell_type": "markdown",
   "id": "285048ff-8891-4638-b784-3611c88e3ee5",
   "metadata": {},
   "source": [
    "## Test 2b: Multi variable OLS:"
   ]
  },
  {
   "cell_type": "code",
   "execution_count": 46,
   "id": "34d272ee-9c9a-4b50-ac30-64cc6e393a51",
   "metadata": {},
   "outputs": [
    {
     "name": "stdout",
     "output_type": "stream",
     "text": [
      "                            OLS Regression Results                            \n",
      "==============================================================================\n",
      "Dep. Variable:       Q(\"Rcmnd Instr\")   R-squared:                       0.473\n",
      "Model:                            OLS   Adj. R-squared:                  0.472\n",
      "Method:                 Least Squares   F-statistic:                     448.9\n",
      "Date:                Sat, 25 Nov 2023   Prob (F-statistic):               0.00\n",
      "Time:                        12:29:22   Log-Likelihood:                -13844.\n",
      "No. Observations:                3514   AIC:                         2.770e+04\n",
      "Df Residuals:                    3506   BIC:                         2.775e+04\n",
      "Df Model:                           7                                         \n",
      "Covariance Type:            nonrobust                                         \n",
      "===========================================================================================\n",
      "                              coef    std err          t      P>|t|      [0.025      0.975]\n",
      "-------------------------------------------------------------------------------------------\n",
      "Intercept                   5.0948      2.872      1.774      0.076      -0.536      10.725\n",
      "Department[T.math]         -4.8160      0.572     -8.416      0.000      -5.938      -3.694\n",
      "Q(\"Enroll\")                -0.0183      0.005     -3.757      0.000      -0.028      -0.009\n",
      "Q(\"Evals Made\")             0.0173      0.008      2.089      0.037       0.001       0.034\n",
      "Q(\"Rcmnd Class\")            0.9221      0.020     45.292      0.000       0.882       0.962\n",
      "Q(\"Study Hrs/wk\")           0.4330      0.127      3.403      0.001       0.184       0.682\n",
      "Q(\"Avg Grade Expected\")     0.0906      1.061      0.085      0.932      -1.990       2.172\n",
      "Q(\"Avg Grade Received\")     0.4941      0.703      0.703      0.482      -0.884       1.872\n",
      "==============================================================================\n",
      "Omnibus:                      947.701   Durbin-Watson:                   1.719\n",
      "Prob(Omnibus):                  0.000   Jarque-Bera (JB):             4062.042\n",
      "Skew:                          -1.252   Prob(JB):                         0.00\n",
      "Kurtosis:                       7.634   Cond. No.                     2.81e+03\n",
      "==============================================================================\n",
      "\n",
      "Notes:\n",
      "[1] Standard Errors assume that the covariance matrix of the errors is correctly specified.\n",
      "[2] The condition number is large, 2.81e+03. This might indicate that there are\n",
      "strong multicollinearity or other numerical problems.\n"
     ]
    }
   ],
   "source": [
    "outcome_2, predictors_2 = patsy.dmatrices('Q(\"Rcmnd Instr\") ~ Department + Q(\"Enroll\")+ Q(\"Evals Made\")+ Q(\"Rcmnd Class\")+ Q(\"Study Hrs/wk\")+ Q(\"Avg Grade Expected\") + Q(\"Avg Grade Received\")', dfMod)\n",
    "mod_2 = sm.OLS(outcome_2, predictors_2)\n",
    "res_2 = mod_2.fit()\n",
    "print(res_2.summary())"
   ]
  },
  {
   "cell_type": "markdown",
   "id": "a836e08e-659a-44fc-96fd-969cc52c5aac",
   "metadata": {},
   "source": [
    "With these results, we can somewhat conclude that the department of a professor is indicative of their ratings. The regression line indicates that being a part of the math department lowers their rating by 4.8 points! This result is also statistically significant. However, our R-squared value is only 0.473. Only about 49.3% of the variation can be explained by the dependent variables. "
   ]
  },
  {
   "cell_type": "markdown",
   "id": "caac11f5-aaff-4ce1-8d56-0250ff7d73c2",
   "metadata": {},
   "source": [
    "## Conclusion\n",
    "We have some evidence to conclude that math professors are worse than COGS professors. The Mann-Whitney U test indicates that the mean COGS professor rating being higher and the math professor rating being lower is not due to chance and that they come from two different distributions. When running an OLS analysis, we also have evidence that being a part of the math department correlates with a lower professor rating. However, the OLS results have a low R-squared value, which indicates that only about half of the variability in the data can be accounted for using the regression line. While our tests do point to math professors being worse than COGS professors, we would need to account for other variables, like difficulty of the course, ability to explain things, etc. "
   ]
  }
 ],
 "metadata": {
  "kernelspec": {
   "display_name": "Python 3 (ipykernel)",
   "language": "python",
   "name": "python3"
  },
  "language_info": {
   "codemirror_mode": {
    "name": "ipython",
    "version": 3
   },
   "file_extension": ".py",
   "mimetype": "text/x-python",
   "name": "python",
   "nbconvert_exporter": "python",
   "pygments_lexer": "ipython3",
   "version": "3.10.13"
  }
 },
 "nbformat": 4,
 "nbformat_minor": 5
}
